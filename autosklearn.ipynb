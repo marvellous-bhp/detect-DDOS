{
 "cells": [
  {
   "cell_type": "code",
   "execution_count": 1,
   "id": "36b33cfe-3561-498c-8771-22ebf04cb51e",
   "metadata": {},
   "outputs": [],
   "source": [
    "import pandas as pd\n",
    "from sklearn.model_selection import train_test_split\n",
    "from sklearn.metrics import classification_report, accuracy_score, confusion_matrix\n",
    "import autosklearn.classification\n",
    "import sklearn.model_selection\n"
   ]
  },
  {
   "cell_type": "code",
   "execution_count": 14,
   "id": "0e6410bc",
   "metadata": {},
   "outputs": [],
   "source": [
    "# pip install auto-sklearn\n",
    "# !pip install scikit_learn==0.24.2"
   ]
  },
  {
   "cell_type": "code",
   "execution_count": 2,
   "id": "bb56068d-fa45-453c-b242-f38337e59286",
   "metadata": {},
   "outputs": [],
   "source": [
    "df = pd.read_csv('data/data.csv')\n"
   ]
  },
  {
   "cell_type": "code",
   "execution_count": 16,
   "id": "dad278bd",
   "metadata": {},
   "outputs": [],
   "source": [
    "# columns = [\n",
    "#     'timestamp', 'datapath_id', 'flow_id', 'ip_src', 'tp_src', 'ip_dst', 'tp_dst',\n",
    "#     'ip_proto', 'icmp_code', 'icmp_type', 'flow_duration_sec', 'flow_duration_nsec',\n",
    "#     'idle_timeout', 'hard_timeout', 'flags', 'packet_count', 'byte_count',\n",
    "#     'packet_count_per_second', 'packet_count_per_nsecond', 'byte_count_per_second',\n",
    "#     'byte_count_per_nsecond', 'label'\n",
    "# ]"
   ]
  },
  {
   "cell_type": "code",
   "execution_count": 4,
   "id": "aaef6ec5",
   "metadata": {},
   "outputs": [
    {
     "data": {
      "text/html": [
       "<div>\n",
       "<style scoped>\n",
       "    .dataframe tbody tr th:only-of-type {\n",
       "        vertical-align: middle;\n",
       "    }\n",
       "\n",
       "    .dataframe tbody tr th {\n",
       "        vertical-align: top;\n",
       "    }\n",
       "\n",
       "    .dataframe thead th {\n",
       "        text-align: right;\n",
       "    }\n",
       "</style>\n",
       "<table border=\"1\" class=\"dataframe\">\n",
       "  <thead>\n",
       "    <tr style=\"text-align: right;\">\n",
       "      <th></th>\n",
       "      <th>datapath_id</th>\n",
       "      <th>ip_src</th>\n",
       "      <th>tp_src</th>\n",
       "      <th>ip_dst</th>\n",
       "      <th>tp_dst</th>\n",
       "      <th>ip_proto</th>\n",
       "      <th>icmp_code</th>\n",
       "      <th>icmp_type</th>\n",
       "      <th>flow_duration_sec</th>\n",
       "      <th>flow_duration_nsec</th>\n",
       "      <th>packet_count</th>\n",
       "      <th>byte_count</th>\n",
       "      <th>packet_count_per_second</th>\n",
       "      <th>packet_count_per_nsecond</th>\n",
       "      <th>byte_count_per_second</th>\n",
       "      <th>byte_count_per_nsecond</th>\n",
       "      <th>label</th>\n",
       "    </tr>\n",
       "  </thead>\n",
       "  <tbody>\n",
       "    <tr>\n",
       "      <th>0</th>\n",
       "      <td>3</td>\n",
       "      <td>167772165</td>\n",
       "      <td>5202</td>\n",
       "      <td>167772165</td>\n",
       "      <td>0</td>\n",
       "      <td>6</td>\n",
       "      <td>-1</td>\n",
       "      <td>-1</td>\n",
       "      <td>5</td>\n",
       "      <td>622000000</td>\n",
       "      <td>4</td>\n",
       "      <td>696</td>\n",
       "      <td>0.800000</td>\n",
       "      <td>6.430868e-09</td>\n",
       "      <td>139.2</td>\n",
       "      <td>0.000001</td>\n",
       "      <td>4</td>\n",
       "    </tr>\n",
       "    <tr>\n",
       "      <th>1</th>\n",
       "      <td>3</td>\n",
       "      <td>535633541</td>\n",
       "      <td>0</td>\n",
       "      <td>167772168</td>\n",
       "      <td>0</td>\n",
       "      <td>1</td>\n",
       "      <td>0</td>\n",
       "      <td>8</td>\n",
       "      <td>12</td>\n",
       "      <td>140000000</td>\n",
       "      <td>0</td>\n",
       "      <td>0</td>\n",
       "      <td>0.000000</td>\n",
       "      <td>0.000000e+00</td>\n",
       "      <td>0.0</td>\n",
       "      <td>0.000000</td>\n",
       "      <td>1</td>\n",
       "    </tr>\n",
       "    <tr>\n",
       "      <th>2</th>\n",
       "      <td>4</td>\n",
       "      <td>167772166</td>\n",
       "      <td>5856</td>\n",
       "      <td>167772166</td>\n",
       "      <td>0</td>\n",
       "      <td>6</td>\n",
       "      <td>-1</td>\n",
       "      <td>-1</td>\n",
       "      <td>29</td>\n",
       "      <td>172000000</td>\n",
       "      <td>9</td>\n",
       "      <td>1566</td>\n",
       "      <td>0.310345</td>\n",
       "      <td>5.232558e-08</td>\n",
       "      <td>54.0</td>\n",
       "      <td>0.000009</td>\n",
       "      <td>4</td>\n",
       "    </tr>\n",
       "    <tr>\n",
       "      <th>3</th>\n",
       "      <td>5</td>\n",
       "      <td>2534480792</td>\n",
       "      <td>17108</td>\n",
       "      <td>167772162</td>\n",
       "      <td>0</td>\n",
       "      <td>17</td>\n",
       "      <td>-1</td>\n",
       "      <td>-1</td>\n",
       "      <td>0</td>\n",
       "      <td>141000000</td>\n",
       "      <td>0</td>\n",
       "      <td>0</td>\n",
       "      <td>0.000000</td>\n",
       "      <td>0.000000e+00</td>\n",
       "      <td>0.0</td>\n",
       "      <td>0.000000</td>\n",
       "      <td>2</td>\n",
       "    </tr>\n",
       "    <tr>\n",
       "      <th>4</th>\n",
       "      <td>3</td>\n",
       "      <td>1095188370</td>\n",
       "      <td>17202</td>\n",
       "      <td>167772169</td>\n",
       "      <td>80</td>\n",
       "      <td>6</td>\n",
       "      <td>-1</td>\n",
       "      <td>-1</td>\n",
       "      <td>17</td>\n",
       "      <td>42000000</td>\n",
       "      <td>0</td>\n",
       "      <td>0</td>\n",
       "      <td>0.000000</td>\n",
       "      <td>0.000000e+00</td>\n",
       "      <td>0.0</td>\n",
       "      <td>0.000000</td>\n",
       "      <td>3</td>\n",
       "    </tr>\n",
       "  </tbody>\n",
       "</table>\n",
       "</div>"
      ],
      "text/plain": [
       "   datapath_id      ip_src  tp_src     ip_dst  tp_dst  ip_proto  icmp_code  \\\n",
       "0            3   167772165    5202  167772165       0         6         -1   \n",
       "1            3   535633541       0  167772168       0         1          0   \n",
       "2            4   167772166    5856  167772166       0         6         -1   \n",
       "3            5  2534480792   17108  167772162       0        17         -1   \n",
       "4            3  1095188370   17202  167772169      80         6         -1   \n",
       "\n",
       "   icmp_type  flow_duration_sec  flow_duration_nsec  packet_count  byte_count  \\\n",
       "0         -1                  5           622000000             4         696   \n",
       "1          8                 12           140000000             0           0   \n",
       "2         -1                 29           172000000             9        1566   \n",
       "3         -1                  0           141000000             0           0   \n",
       "4         -1                 17            42000000             0           0   \n",
       "\n",
       "   packet_count_per_second  packet_count_per_nsecond  byte_count_per_second  \\\n",
       "0                 0.800000              6.430868e-09                  139.2   \n",
       "1                 0.000000              0.000000e+00                    0.0   \n",
       "2                 0.310345              5.232558e-08                   54.0   \n",
       "3                 0.000000              0.000000e+00                    0.0   \n",
       "4                 0.000000              0.000000e+00                    0.0   \n",
       "\n",
       "   byte_count_per_nsecond  label  \n",
       "0                0.000001      4  \n",
       "1                0.000000      1  \n",
       "2                0.000009      4  \n",
       "3                0.000000      2  \n",
       "4                0.000000      3  "
      ]
     },
     "execution_count": 4,
     "metadata": {},
     "output_type": "execute_result"
    }
   ],
   "source": [
    "df.head()"
   ]
  },
  {
   "cell_type": "code",
   "execution_count": 5,
   "id": "e8c6d7a7",
   "metadata": {},
   "outputs": [],
   "source": [
    "X = df.drop(\"label\",axis=1)\n",
    "y = df['label']"
   ]
  },
  {
   "cell_type": "code",
   "execution_count": 6,
   "id": "861ae230",
   "metadata": {},
   "outputs": [],
   "source": [
    "X_train, X_test_check, y_train, y_test_check = train_test_split(\n",
    "    X, y, test_size=0.35, random_state=42)"
   ]
  },
  {
   "cell_type": "code",
   "execution_count": 7,
   "id": "d3f5e8cb",
   "metadata": {},
   "outputs": [],
   "source": [
    "X_test, X_validate, y_test, y_validate = train_test_split(\n",
    "    X_test_check, y_test_check, test_size=2/7, random_state=42)"
   ]
  },
  {
   "cell_type": "code",
   "execution_count": 8,
   "id": "4ebcfb55-3328-4c57-a774-cf5769d9bd20",
   "metadata": {
    "collapsed": true,
    "jupyter": {
     "outputs_hidden": true
    }
   },
   "outputs": [],
   "source": [
    "def check_zero_col(df):\n",
    "    zero_count_per_column = (df == 0).sum()/len(df)*100\n",
    "    print(len(df))\n",
    "    print(zero_count_per_column)\n",
    "    return zero_count_per_column"
   ]
  },
  {
   "cell_type": "code",
   "execution_count": 9,
   "id": "ac6c9992",
   "metadata": {},
   "outputs": [],
   "source": [
    "def concat_df(df1, df2):\n",
    "    df_combined = pd.concat([df1, df2], ignore_index=True)\n",
    "\n",
    "    df_shuffled = df_combined.sample(frac=1, random_state=1).reset_index(drop=True)\n",
    "    return df_shuffled"
   ]
  },
  {
   "cell_type": "code",
   "execution_count": 39,
   "id": "215d767e",
   "metadata": {},
   "outputs": [
    {
     "data": {
      "text/plain": [
       "(1491317, 16)"
      ]
     },
     "execution_count": 39,
     "metadata": {},
     "output_type": "execute_result"
    }
   ],
   "source": [
    "X_train.shape"
   ]
  },
  {
   "cell_type": "code",
   "execution_count": null,
   "id": "1cbd88e1-3b8e-4387-88ad-4b67c4aa79ac",
   "metadata": {},
   "outputs": [
    {
     "name": "stdout",
     "output_type": "stream",
     "text": [
      "Accuracy score 1.0\n"
     ]
    }
   ],
   "source": [
    "\n",
    "automl = autosklearn.classification.AutoSklearnClassifier(memory_limit=6144)  \n",
    "automl.fit(X_train, y_train)\n",
    "y_ = automl.predict(X_test)\n",
    "print(\"Accuracy score\", sklearn.metrics.accuracy_score(y_test, y_hat))"
   ]
  },
  {
   "cell_type": "code",
   "execution_count": 12,
   "id": "7c95fee9",
   "metadata": {},
   "outputs": [
    {
     "data": {
      "text/plain": [
       "['autosklearn_model.pkl']"
      ]
     },
     "execution_count": 12,
     "metadata": {},
     "output_type": "execute_result"
    }
   ],
   "source": [
    "import joblib\n",
    "\n",
    "joblib.dump(automl, 'autosklearn_model.pkl')\n"
   ]
  },
  {
   "cell_type": "code",
   "execution_count": 13,
   "id": "eb9ccf27-71ee-4384-91d2-295ed456700e",
   "metadata": {},
   "outputs": [
    {
     "name": "stdout",
     "output_type": "stream",
     "text": [
      "Accuracy: 1.0\n"
     ]
    },
    {
     "name": "stdout",
     "output_type": "stream",
     "text": [
      "Confusion Matrix:\n",
      " [[116562      0      0      0      0]\n",
      " [     0 119923      0      0      0]\n",
      " [     0      0 110229      0      0]\n",
      " [     0      0      0 113618      0]\n",
      " [     0      0      0      0 113251]]\n",
      "Classification Report:\n",
      "               precision    recall  f1-score   support\n",
      "\n",
      "           0       1.00      1.00      1.00    116562\n",
      "           1       1.00      1.00      1.00    119923\n",
      "           2       1.00      1.00      1.00    110229\n",
      "           3       1.00      1.00      1.00    113618\n",
      "           4       1.00      1.00      1.00    113251\n",
      "\n",
      "    accuracy                           1.00    573583\n",
      "   macro avg       1.00      1.00      1.00    573583\n",
      "weighted avg       1.00      1.00      1.00    573583\n",
      "\n"
     ]
    }
   ],
   "source": [
    "print(\"Accuracy:\", accuracy_score(y_test, y_hat))\n",
    "print(\"Confusion Matrix:\\n\", confusion_matrix(y_test, y_hat))\n",
    "print(\"Classification Report:\\n\", classification_report(y_test, y_hat))\n"
   ]
  },
  {
   "cell_type": "code",
   "execution_count": 24,
   "id": "976d1221",
   "metadata": {},
   "outputs": [],
   "source": [
    "# pip install autokeras\n",
    "# !pip install scikit-learn"
   ]
  },
  {
   "cell_type": "code",
   "execution_count": 14,
   "id": "b2467f12",
   "metadata": {},
   "outputs": [
    {
     "data": {
      "text/plain": [
       "'1.4.2'"
      ]
     },
     "execution_count": 14,
     "metadata": {},
     "output_type": "execute_result"
    }
   ],
   "source": [
    "import joblib\n",
    "joblib.__version__\n"
   ]
  },
  {
   "cell_type": "code",
   "execution_count": null,
   "id": "7d6ca05d",
   "metadata": {},
   "outputs": [],
   "source": [
    "# pip install smac==1.2\n"
   ]
  },
  {
   "cell_type": "code",
   "execution_count": 15,
   "id": "5d57b4c5",
   "metadata": {},
   "outputs": [],
   "source": [
    "# Tải lại mô hình từ tệp 'automl_model.pkl'\n",
    "automl_loaded = joblib.load('autosklearn_model.pkl')\n",
    "\n"
   ]
  },
  {
   "cell_type": "code",
   "execution_count": 16,
   "id": "1c53cac4",
   "metadata": {},
   "outputs": [
    {
     "data": {
      "text/html": [
       "<div>\n",
       "<style scoped>\n",
       "    .dataframe tbody tr th:only-of-type {\n",
       "        vertical-align: middle;\n",
       "    }\n",
       "\n",
       "    .dataframe tbody tr th {\n",
       "        vertical-align: top;\n",
       "    }\n",
       "\n",
       "    .dataframe thead th {\n",
       "        text-align: right;\n",
       "    }\n",
       "</style>\n",
       "<table border=\"1\" class=\"dataframe\">\n",
       "  <thead>\n",
       "    <tr style=\"text-align: right;\">\n",
       "      <th></th>\n",
       "      <th>datapath_id</th>\n",
       "      <th>ip_src</th>\n",
       "      <th>tp_src</th>\n",
       "      <th>ip_dst</th>\n",
       "      <th>tp_dst</th>\n",
       "      <th>ip_proto</th>\n",
       "      <th>icmp_code</th>\n",
       "      <th>icmp_type</th>\n",
       "      <th>flow_duration_sec</th>\n",
       "      <th>flow_duration_nsec</th>\n",
       "      <th>packet_count</th>\n",
       "      <th>byte_count</th>\n",
       "      <th>packet_count_per_second</th>\n",
       "      <th>packet_count_per_nsecond</th>\n",
       "      <th>byte_count_per_second</th>\n",
       "      <th>byte_count_per_nsecond</th>\n",
       "    </tr>\n",
       "  </thead>\n",
       "  <tbody>\n",
       "    <tr>\n",
       "      <th>1568934</th>\n",
       "      <td>5</td>\n",
       "      <td>1383112398</td>\n",
       "      <td>13438</td>\n",
       "      <td>167772162</td>\n",
       "      <td>0</td>\n",
       "      <td>17</td>\n",
       "      <td>-1</td>\n",
       "      <td>-1</td>\n",
       "      <td>15</td>\n",
       "      <td>967000000</td>\n",
       "      <td>0</td>\n",
       "      <td>0</td>\n",
       "      <td>0.0</td>\n",
       "      <td>0.0</td>\n",
       "      <td>0.0</td>\n",
       "      <td>0.0</td>\n",
       "    </tr>\n",
       "  </tbody>\n",
       "</table>\n",
       "</div>"
      ],
      "text/plain": [
       "         datapath_id      ip_src  tp_src     ip_dst  tp_dst  ip_proto  \\\n",
       "1568934            5  1383112398   13438  167772162       0        17   \n",
       "\n",
       "         icmp_code  icmp_type  flow_duration_sec  flow_duration_nsec  \\\n",
       "1568934         -1         -1                 15           967000000   \n",
       "\n",
       "         packet_count  byte_count  packet_count_per_second  \\\n",
       "1568934             0           0                      0.0   \n",
       "\n",
       "         packet_count_per_nsecond  byte_count_per_second  \\\n",
       "1568934                       0.0                    0.0   \n",
       "\n",
       "         byte_count_per_nsecond  \n",
       "1568934                     0.0  "
      ]
     },
     "execution_count": 16,
     "metadata": {},
     "output_type": "execute_result"
    }
   ],
   "source": [
    "x_va = X_validate[5:6]\n",
    "x_va"
   ]
  },
  {
   "cell_type": "code",
   "execution_count": 17,
   "id": "5124f223",
   "metadata": {},
   "outputs": [
    {
     "data": {
      "text/plain": [
       "2"
      ]
     },
     "execution_count": 17,
     "metadata": {},
     "output_type": "execute_result"
    }
   ],
   "source": [
    "yyy = automl_loaded.predict(x_va)\n",
    "yyy[0]"
   ]
  },
  {
   "cell_type": "code",
   "execution_count": 18,
   "id": "5cac28a8",
   "metadata": {},
   "outputs": [],
   "source": [
    "# Sử dụng mô hình để dự đoán\n",
    "y_pred = automl_loaded.predict(X_test)"
   ]
  },
  {
   "cell_type": "code",
   "execution_count": 19,
   "id": "6d6718ce",
   "metadata": {},
   "outputs": [
    {
     "name": "stdout",
     "output_type": "stream",
     "text": [
      "Accuracy: 1.0\n"
     ]
    },
    {
     "name": "stdout",
     "output_type": "stream",
     "text": [
      "Confusion Matrix:\n",
      " [[116562      0      0      0      0]\n",
      " [     0 119923      0      0      0]\n",
      " [     0      0 110229      0      0]\n",
      " [     0      0      0 113618      0]\n",
      " [     0      0      0      0 113251]]\n",
      "Classification Report:\n",
      "               precision    recall  f1-score   support\n",
      "\n",
      "           0       1.00      1.00      1.00    116562\n",
      "           1       1.00      1.00      1.00    119923\n",
      "           2       1.00      1.00      1.00    110229\n",
      "           3       1.00      1.00      1.00    113618\n",
      "           4       1.00      1.00      1.00    113251\n",
      "\n",
      "    accuracy                           1.00    573583\n",
      "   macro avg       1.00      1.00      1.00    573583\n",
      "weighted avg       1.00      1.00      1.00    573583\n",
      "\n"
     ]
    }
   ],
   "source": [
    "print(\"Accuracy:\", accuracy_score(y_test, y_pred))\n",
    "print(\"Confusion Matrix:\\n\", confusion_matrix(y_test, y_pred))\n",
    "print(\"Classification Report:\\n\", classification_report(y_test, y_pred))\n"
   ]
  },
  {
   "cell_type": "code",
   "execution_count": 35,
   "id": "230215b4",
   "metadata": {},
   "outputs": [
    {
     "name": "stdout",
     "output_type": "stream",
     "text": [
      "{2: {'model_id': 2, 'rank': 1, 'cost': 0.0, 'ensemble_weight': 1.0, 'data_preprocessor': <autosklearn.pipeline.components.data_preprocessing.DataPreprocessorChoice object at 0x7fe2f39975b0>, 'balancing': Balancing(random_state=1), 'feature_preprocessor': <autosklearn.pipeline.components.feature_preprocessing.FeaturePreprocessorChoice object at 0x7fe2f38c5280>, 'classifier': <autosklearn.pipeline.components.classification.ClassifierChoice object at 0x7fe2f38c5400>, 'sklearn_classifier': RandomForestClassifier(max_features=4, n_estimators=512, n_jobs=1,\n",
      "                       random_state=1, warm_start=True)}}\n"
     ]
    }
   ],
   "source": [
    "overal_model = automl.show_models()\n",
    "print(overal_model)\n"
   ]
  },
  {
   "cell_type": "code",
   "execution_count": 21,
   "id": "83c70cf1",
   "metadata": {},
   "outputs": [
    {
     "name": "stdout",
     "output_type": "stream",
     "text": [
      "          rank  ensemble_weight           type  cost    duration\n",
      "model_id                                                        \n",
      "2            1              1.0  random_forest   0.0  321.505599\n"
     ]
    }
   ],
   "source": [
    "print(automl_loaded.leaderboard())\n"
   ]
  },
  {
   "cell_type": "code",
   "execution_count": 22,
   "id": "8068c9c6",
   "metadata": {},
   "outputs": [
    {
     "data": {
      "text/plain": [
       "Index(['rank', 'ensemble_weight', 'type', 'cost', 'duration'], dtype='object')"
      ]
     },
     "execution_count": 22,
     "metadata": {},
     "output_type": "execute_result"
    }
   ],
   "source": [
    "automl_loaded.leaderboard().columns"
   ]
  },
  {
   "cell_type": "code",
   "execution_count": 23,
   "id": "8975ca3b",
   "metadata": {},
   "outputs": [
    {
     "name": "stdout",
     "output_type": "stream",
     "text": [
      "auto-sklearn results:\n",
      "  Dataset name: dcc5302b-9a9b-11ef-8450-250651141d7f\n",
      "  Metric: accuracy\n",
      "  Best validation score: 1.000000\n",
      "  Number of target algorithm runs: 12\n",
      "  Number of successful target algorithm runs: 1\n",
      "  Number of crashed target algorithm runs: 2\n",
      "  Number of target algorithms that exceeded the time limit: 9\n",
      "  Number of target algorithms that exceeded the memory limit: 0\n",
      "\n"
     ]
    }
   ],
   "source": [
    "print(automl_loaded.sprint_statistics())\n"
   ]
  },
  {
   "cell_type": "code",
   "execution_count": 24,
   "id": "8c1c89c4",
   "metadata": {},
   "outputs": [
    {
     "data": {
      "text/plain": [
       "dict"
      ]
     },
     "execution_count": 24,
     "metadata": {},
     "output_type": "execute_result"
    }
   ],
   "source": [
    "type(overal_model)"
   ]
  },
  {
   "cell_type": "code",
   "execution_count": 25,
   "id": "81b97574",
   "metadata": {},
   "outputs": [],
   "source": [
    "models = []\n",
    "for value in overal_model.values():\n",
    "    models.append(value[\"sklearn_classifier\"])"
   ]
  },
  {
   "cell_type": "code",
   "execution_count": 33,
   "id": "7bba086f",
   "metadata": {},
   "outputs": [],
   "source": [
    "# models\n",
    "for i in range(1,len(models)):\n",
    "    print(models[i])"
   ]
  },
  {
   "cell_type": "code",
   "execution_count": 28,
   "id": "63484799",
   "metadata": {},
   "outputs": [
    {
     "data": {
      "text/plain": [
       "1"
      ]
     },
     "execution_count": 28,
     "metadata": {},
     "output_type": "execute_result"
    }
   ],
   "source": [
    "len(overal_model)"
   ]
  },
  {
   "cell_type": "code",
   "execution_count": 34,
   "id": "4990160e",
   "metadata": {},
   "outputs": [
    {
     "data": {
      "text/plain": [
       "{2: {'model_id': 2,\n",
       "  'rank': 1,\n",
       "  'cost': 0.0,\n",
       "  'ensemble_weight': 1.0,\n",
       "  'data_preprocessor': <autosklearn.pipeline.components.data_preprocessing.DataPreprocessorChoice at 0x7fe2f32d9d90>,\n",
       "  'balancing': Balancing(random_state=1),\n",
       "  'feature_preprocessor': <autosklearn.pipeline.components.feature_preprocessing.FeaturePreprocessorChoice at 0x7fe2f36e8a30>,\n",
       "  'classifier': <autosklearn.pipeline.components.classification.ClassifierChoice at 0x7fe2f36e8c10>,\n",
       "  'sklearn_classifier': RandomForestClassifier(max_features=4, n_estimators=512, n_jobs=1,\n",
       "                         random_state=1, warm_start=True)}}"
      ]
     },
     "execution_count": 34,
     "metadata": {},
     "output_type": "execute_result"
    }
   ],
   "source": [
    "overal_model"
   ]
  },
  {
   "cell_type": "code",
   "execution_count": 29,
   "id": "17eb4ce4",
   "metadata": {},
   "outputs": [
    {
     "data": {
      "text/plain": [
       "{'model_id': 2,\n",
       " 'rank': 1,\n",
       " 'cost': 0.0,\n",
       " 'ensemble_weight': 1.0,\n",
       " 'data_preprocessor': <autosklearn.pipeline.components.data_preprocessing.DataPreprocessorChoice at 0x7fe2f32d9d90>,\n",
       " 'balancing': Balancing(random_state=1),\n",
       " 'feature_preprocessor': <autosklearn.pipeline.components.feature_preprocessing.FeaturePreprocessorChoice at 0x7fe2f36e8a30>,\n",
       " 'classifier': <autosklearn.pipeline.components.classification.ClassifierChoice at 0x7fe2f36e8c10>,\n",
       " 'sklearn_classifier': RandomForestClassifier(max_features=4, n_estimators=512, n_jobs=1,\n",
       "                        random_state=1, warm_start=True)}"
      ]
     },
     "execution_count": 29,
     "metadata": {},
     "output_type": "execute_result"
    }
   ],
   "source": [
    "overal_model[2]"
   ]
  },
  {
   "cell_type": "code",
   "execution_count": 30,
   "id": "b0434de2",
   "metadata": {},
   "outputs": [],
   "source": [
    "for i in range(2,len(overal_model)):\n",
    "    print(overal_model[i][\"sklearn_classifier\"])\n",
    "    "
   ]
  },
  {
   "cell_type": "code",
   "execution_count": null,
   "id": "3d2751b6",
   "metadata": {},
   "outputs": [],
   "source": [
    "{2: {'model_id': 2, 'rank': 1, 'cost': 0.0, 'ensemble_weight': 0.18, 'data_preprocessor': <autosklearn.pipeline.components.data_preprocessing.DataPreprocessorChoice object at 0x7f642e349850>, 'balancing': Balancing(random_state=1), 'feature_preprocessor': <autosklearn.pipeline.components.feature_preprocessing.FeaturePreprocessorChoice object at 0x7f6451b676a0>, 'classifier': <autosklearn.pipeline.components.classification.ClassifierChoice object at 0x7f6451b67730>, 'sklearn_classifier': RandomForestClassifier(max_features=4, n_estimators=512, n_jobs=1,\n",
    "                       random_state=1, warm_start=True)}, 3: {'model_id': 3, 'rank': 2, 'cost': 0.046959705911802097, 'ensemble_weight': 0.04, 'data_preprocessor': <autosklearn.pipeline.components.data_preprocessing.DataPreprocessorChoice object at 0x7f644c77b9d0>, 'balancing': Balancing(random_state=1), 'feature_preprocessor': <autosklearn.pipeline.components.feature_preprocessing.FeaturePreprocessorChoice object at 0x7f642ebdd0a0>, 'classifier': <autosklearn.ClassifierChoicepipeline.components.classification. object at 0x7f642ebdd0d0>, 'sklearn_classifier': HistGradientBoostingClassifier(early_stopping=False,\n",
    "                               l2_regularization=1.4326355176911239e-09,\n",
    "                               learning_rate=0.3500835102340142, max_iter=512,\n",
    "                               max_leaf_nodes=206, min_samples_leaf=1,\n",
    "                               n_iter_no_change=0, random_state=1,\n",
    "                               validation_fraction=None, warm_start=True)}, 4: {'model_id': 4, 'rank': 3, 'cost': 0.0, 'ensemble_weight': 0.06, 'data_preprocessor': <autosklearn.pipeline.components.data_preprocessing.DataPreprocessorChoice object at 0x7f6450c55a00>, 'balancing': Balancing(random_state=1, strategy='weighting'), 'feature_preprocessor': <autosklearn.pipeline.components.feature_preprocessing.FeaturePreprocessorChoice object at 0x7f6430383610>, 'classifier': <autosklearn.pipeline.components.classification.ClassifierChoice object at 0x7f6430383640>, 'sklearn_classifier': HistGradientBoostingClassifier(early_stopping=False,\n",
    "                               l2_regularization=1.0945814167023392e-10,\n",
    "                               learning_rate=0.11042628136263043, max_iter=512,\n",
    "                               max_leaf_nodes=30, min_samples_leaf=22,\n",
    "                               n_iter_no_change=0, random_state=1,\n",
    "                               validation_fraction=None, warm_start=True)}, 5: {'model_id': 5, 'rank': 4, 'cost': 0.0023506076773802675, 'ensemble_weight': 0.04, 'data_preprocessor': <autosklearn.pipeline.components.data_preprocessing.DataPreprocessorChoice object at 0x7f6449ecb0a0>, 'balancing': Balancing(random_state=1, strategy='weighting'), 'feature_preprocessor': <autosklearn.pipeline.components.feature_preprocessing.FeaturePreprocessorChoice object at 0x7f642dbcfc40>, 'classifier': <autosklearn.pipeline.components.classification.ClassifierChoice object at 0x7f642dbcfc70>, 'sklearn_classifier': MLPClassifier(activation='tanh', alpha=0.0288316953521873, beta_1=0.999,\n",
    "              beta_2=0.9, hidden_layer_sizes=(91,),\n",
    "              learning_rate_init=0.0002309951929622804, max_iter=64,\n",
    "              n_iter_no_change=32, random_state=1, validation_fraction=0.0,\n",
    "              verbose=0, warm_start=True)}, 7: {'model_id': 7, 'rank': 5, 'cost': 0.0004911005897975107, 'ensemble_weight': 0.08, 'data_preprocessor': <autosklearn.pipeline.components.data_preprocessing.DataPreprocessorChoice object at 0x7f644cbfb970>, 'balancing': Balancing(random_state=1), 'feature_preprocessor': <autosklearn.pipeline.components.feature_preprocessing.FeaturePreprocessorChoice object at 0x7f642df2f400>, 'classifier': <autosklearn.pipeline.components.classification.ClassifierChoice object at 0x7f642df2f430>, 'sklearn_classifier': MLPClassifier(alpha=0.0013962942610192463, beta_1=0.999, beta_2=0.9,\n",
    "              early_stopping=True, hidden_layer_sizes=(29,),\n",
    "              learning_rate_init=0.001358401370818654, max_iter=32,\n",
    "              n_iter_no_change=32, random_state=1, verbose=0, warm_start=True)}, 8: {'model_id': 8, 'rank': 6, 'cost': 0.0, 'ensemble_weight': 0.08, 'data_preprocessor': <autosklearn.pipeline.components.data_preprocessing.DataPreprocessorChoice object at 0x7f6450f99b20>, 'balancing': Balancing(random_state=1, strategy='weighting'), 'feature_preprocessor': <autosklearn.pipeline.components.feature_preprocessing.FeaturePreprocessorChoice object at 0x7f642f7d2520>, 'classifier': <autosklearn.pipeline.components.classification.ClassifierChoice object at 0x7f642f7d2550>, 'sklearn_classifier': ExtraTreesClassifier(criterion='entropy', max_features=14, min_samples_leaf=2,\n",
    "                     min_samples_split=6, n_estimators=512, n_jobs=1,\n",
    "                     random_state=1, warm_start=True)}, 9: {'model_id': 9, 'rank': 7, 'cost': 0.03420062651084954, 'ensemble_weight': 0.04, 'data_preprocessor': <autosklearn.pipeline.components.data_preprocessing.DataPreprocessorChoice object at 0x7f643068ed30>, 'balancing': Balancing(random_state=1), 'feature_preprocessor': <autosklearn.pipeline.components.feature_preprocessing.FeaturePreprocessorChoice object at 0x7f6451e5d910>, 'classifier': <autosklearn.pipeline.components.classification.ClassifierChoice object at 0x7f6451e5d940>, 'sklearn_classifier': SGDClassifier(alpha=1.6992296128865824e-07, average=True, eta0=0.01, loss='log',\n",
    "              max_iter=256, penalty='l1', random_state=1,\n",
    "              tol=1.535384699341134e-05, warm_start=True)}, 12: {'model_id': 12, 'rank': 8, 'cost': 0.0, 'ensemble_weight': 0.06, 'data_preprocessor': <autosklearn.pipeline.components.data_preprocessing.DataPreprocessorChoice object at 0x7f6450f50580>, 'balancing': Balancing(random_state=1), 'feature_preprocessor': <autosklearn.pipeline.components.feature_preprocessing.FeaturePreprocessorChoice object at 0x7f642e2a71c0>, 'classifier': <autosklearn.pipeline.components.classification.ClassifierChoice object at 0x7f642e2a71f0>, 'sklearn_classifier': AdaBoostClassifier(algorithm='SAMME',\n",
    "                   base_estimator=DecisionTreeClassifier(max_depth=8),\n",
    "                   learning_rate=0.02607458507935197, n_estimators=97,\n",
    "                   random_state=1)}, 13: {'model_id': 13, 'rank': 9, 'cost': 4.291170202108674e-05, 'ensemble_weight': 0.08, 'data_preprocessor': <autosklearn.pipeline.components.data_preprocessing.DataPreprocessorChoice object at 0x7f6450dd3d00>, 'balancing': Balancing(random_state=1), 'feature_preprocessor': <autosklearn.pipeline.components.feature_preprocessing.FeaturePreprocessorChoice object at 0x7f6450f187f0>, 'classifier': <autosklearn.pipeline.components.classification.ClassifierChoice object at 0x7f6450f18820>, 'sklearn_classifier': RandomForestClassifier(criterion='entropy', max_features=1, min_samples_leaf=5,\n",
    "                       min_samples_split=11, n_estimators=512, n_jobs=1,\n",
    "                       random_state=1, warm_start=True)}, 15: {'model_id': 15, 'rank': 10, 'cost': 0.019477144750706832, 'ensemble_weight': 0.04, 'data_preprocessor': <autosklearn.pipeline.components.data_preprocessing.DataPreprocessorChoice object at 0x7f642eb15f70>, 'balancing': Balancing(random_state=1, strategy='weighting'), 'feature_preprocessor': <autosklearn.pipeline.components.feature_preprocessing.FeaturePreprocessorChoice object at 0x7f642f77ca00>, 'classifier': <autosklearn.pipeline.components.classification.ClassifierChoice object at 0x7f642f77ca30>, 'sklearn_classifier': LinearDiscriminantAnalysis(shrinkage=0.3306135150299744, solver='lsqr',\n",
    "                           tol=0.0007215763283486354)}, 19: {'model_id': 19, 'rank': 11, 'cost': 4.7679668911948525e-06, 'ensemble_weight': 0.14, 'data_preprocessor': <autosklearn.pipeline.components.data_preprocessing.DataPreprocessorChoice object at 0x7f642dfb85b0>, 'balancing': Balancing(random_state=1), 'feature_preprocessor': <autosklearn.pipeline.components.feature_preprocessing.FeaturePreprocessorChoice object at 0x7f642ee681f0>, 'classifier': <autosklearn.pipeline.components.classification.ClassifierChoice object at 0x7f642ee68220>, 'sklearn_classifier': HistGradientBoostingClassifier(early_stopping=True,\n",
    "                               l2_regularization=3.609412172481434e-10,\n",
    "                               learning_rate=0.05972079854295879, max_iter=512,\n",
    "                               max_leaf_nodes=4, min_samples_leaf=2,\n",
    "                               n_iter_no_change=14, random_state=1,\n",
    "                               validation_fraction=None, warm_start=True)}, 21: {'model_id': 21, 'rank': 12, 'cost': 0.44167584500293233, 'ensemble_weight': 0.02, 'data_preprocessor': <autosklearn.pipeline.components.data_preprocessing.DataPreprocessorChoice object at 0x7f644c4c6c40>, 'balancing': Balancing(random_state=1, strategy='weighting'), 'feature_preprocessor': <autosklearn.pipeline.components.feature_preprocessing.FeaturePreprocessorChoice object at 0x7f6452349640>, 'classifier': <autosklearn.pipeline.components.classification.ClassifierChoice object at 0x7f6452349670>, 'sklearn_classifier': GaussianNB()}, 28: {'model_id': 28, 'rank': 13, 'cost': 0.0, 'ensemble_weight': 0.1, 'data_preprocessor': <autosklearn.pipeline.components.data_preprocessing.DataPreprocessorChoice object at 0x7f644c594190>, 'balancing': Balancing(random_state=1), 'feature_preprocessor': <autosklearn.pipeline.components.feature_preprocessing.FeaturePreprocessorChoice object at 0x7f644c550b50>, 'classifier': <autosklearn.pipeline.components.classification.ClassifierChoice object at 0x7f644c550b80>, 'sklearn_classifier': AdaBoostClassifier(base_estimator=DecisionTreeClassifier(max_depth=10),\n",
    "                   learning_rate=0.4452806694698093, n_estimators=155,\n",
    "                   random_state=1)}, 29: {'model_id': 29, 'rank': 14, 'cost': 0.00010966323849848081, 'ensemble_weight': 0.04, 'data_preprocessor': <autosklearn.pipeline.components.data_preprocessing.DataPreprocessorChoice object at 0x7f64477267c0>, 'balancing': Balancing(random_state=1), 'feature_preprocessor': <autosklearn.pipeline.components.feature_preprocessing.FeaturePreprocessorChoice object at 0x7f642feb6250>, 'classifier': <autosklearn.pipeline.components.classification.ClassifierChoice object at 0x7f642feb6280>, 'sklearn_classifier': ExtraTreesClassifier(criterion='entropy', max_features=10, min_samples_leaf=11,\n",
    "                     min_samples_split=4, n_estimators=512, n_jobs=1,\n",
    "                     random_state=1, warm_start=True)}}\n"
   ]
  },
  {
   "cell_type": "code",
   "execution_count": null,
   "id": "b38a2f56",
   "metadata": {},
   "outputs": [],
   "source": [
    "{'model_id': 2, 'rank': 1, 'cost': 0.0, 'ensemble_weight': 0.18, \n",
    " 'data_preprocessor': <autosklearn.pipeline.components.data_preprocessing.DataPreprocessorChoice object at 0x7f642e349850>, \n",
    " 'balancing': Balancing(random_state=1), \n",
    " 'feature_preprocessor': <autosklearn.pipeline.components.feature_preprocessing.FeaturePreprocessorChoice object at 0x7f6451b676a0>, \n",
    " 'classifier': <autosklearn.pipeline.components.classification.ClassifierChoice object at 0x7f6451b67730>, \n",
    " 'sklearn_classifier': RandomForestClassifier(max_features=4, n_estimators=512, n_jobs=1,\n",
    "                       random_state=1, warm_start=True)}"
   ]
  },
  {
   "cell_type": "code",
   "execution_count": 31,
   "id": "2b6df672",
   "metadata": {},
   "outputs": [
    {
     "name": "stdout",
     "output_type": "stream",
     "text": [
      "Accuracy: 1.0\n",
      "Confusion Matrix:\n",
      " [[46506     0     0     0     0]\n",
      " [    0 48309     0     0     0]\n",
      " [    0     0 43926     0     0]\n",
      " [    0     0     0 45503     0]\n",
      " [    0     0     0     0 45190]]\n",
      "Classification Report:\n",
      "               precision    recall  f1-score   support\n",
      "\n",
      "           0       1.00      1.00      1.00     46506\n",
      "           1       1.00      1.00      1.00     48309\n",
      "           2       1.00      1.00      1.00     43926\n",
      "           3       1.00      1.00      1.00     45503\n",
      "           4       1.00      1.00      1.00     45190\n",
      "\n",
      "    accuracy                           1.00    229434\n",
      "   macro avg       1.00      1.00      1.00    229434\n",
      "weighted avg       1.00      1.00      1.00    229434\n",
      "\n"
     ]
    }
   ],
   "source": [
    "y_pred_val = automl_loaded.predict(X_validate)\n",
    "print(\"Accuracy:\", accuracy_score(y_test, y_pred))\n",
    "print(\"Confusion Matrix:\\n\", confusion_matrix(y_validate, y_pred_val))\n",
    "print(\"Classification Report:\\n\", classification_report(y_validate, y_pred_val))\n"
   ]
  },
  {
   "cell_type": "code",
   "execution_count": 32,
   "id": "aab4252a",
   "metadata": {},
   "outputs": [
    {
     "data": {
      "text/html": [
       "<div>\n",
       "<style scoped>\n",
       "    .dataframe tbody tr th:only-of-type {\n",
       "        vertical-align: middle;\n",
       "    }\n",
       "\n",
       "    .dataframe tbody tr th {\n",
       "        vertical-align: top;\n",
       "    }\n",
       "\n",
       "    .dataframe thead th {\n",
       "        text-align: right;\n",
       "    }\n",
       "</style>\n",
       "<table border=\"1\" class=\"dataframe\">\n",
       "  <thead>\n",
       "    <tr style=\"text-align: right;\">\n",
       "      <th></th>\n",
       "      <th>datapath_id</th>\n",
       "      <th>ip_src</th>\n",
       "      <th>tp_src</th>\n",
       "      <th>ip_dst</th>\n",
       "      <th>tp_dst</th>\n",
       "      <th>ip_proto</th>\n",
       "      <th>icmp_code</th>\n",
       "      <th>icmp_type</th>\n",
       "      <th>flow_duration_sec</th>\n",
       "      <th>flow_duration_nsec</th>\n",
       "      <th>packet_count</th>\n",
       "      <th>byte_count</th>\n",
       "      <th>packet_count_per_second</th>\n",
       "      <th>packet_count_per_nsecond</th>\n",
       "      <th>byte_count_per_second</th>\n",
       "      <th>byte_count_per_nsecond</th>\n",
       "    </tr>\n",
       "  </thead>\n",
       "  <tbody>\n",
       "    <tr>\n",
       "      <th>2243625</th>\n",
       "      <td>3</td>\n",
       "      <td>167772173</td>\n",
       "      <td>10024</td>\n",
       "      <td>167772173</td>\n",
       "      <td>0</td>\n",
       "      <td>6</td>\n",
       "      <td>-1</td>\n",
       "      <td>-1</td>\n",
       "      <td>2</td>\n",
       "      <td>447000000</td>\n",
       "      <td>0</td>\n",
       "      <td>0</td>\n",
       "      <td>0.0</td>\n",
       "      <td>0.000000e+00</td>\n",
       "      <td>0.0</td>\n",
       "      <td>0.000000e+00</td>\n",
       "    </tr>\n",
       "    <tr>\n",
       "      <th>697153</th>\n",
       "      <td>4</td>\n",
       "      <td>983699175</td>\n",
       "      <td>13771</td>\n",
       "      <td>167772176</td>\n",
       "      <td>0</td>\n",
       "      <td>17</td>\n",
       "      <td>-1</td>\n",
       "      <td>-1</td>\n",
       "      <td>10</td>\n",
       "      <td>419000000</td>\n",
       "      <td>0</td>\n",
       "      <td>0</td>\n",
       "      <td>0.0</td>\n",
       "      <td>0.000000e+00</td>\n",
       "      <td>0.0</td>\n",
       "      <td>0.000000e+00</td>\n",
       "    </tr>\n",
       "    <tr>\n",
       "      <th>1975632</th>\n",
       "      <td>3</td>\n",
       "      <td>2420214498</td>\n",
       "      <td>2614</td>\n",
       "      <td>167772169</td>\n",
       "      <td>0</td>\n",
       "      <td>17</td>\n",
       "      <td>-1</td>\n",
       "      <td>-1</td>\n",
       "      <td>16</td>\n",
       "      <td>19000000</td>\n",
       "      <td>0</td>\n",
       "      <td>0</td>\n",
       "      <td>0.0</td>\n",
       "      <td>0.000000e+00</td>\n",
       "      <td>0.0</td>\n",
       "      <td>0.000000e+00</td>\n",
       "    </tr>\n",
       "    <tr>\n",
       "      <th>427942</th>\n",
       "      <td>3</td>\n",
       "      <td>167772167</td>\n",
       "      <td>47790</td>\n",
       "      <td>167772163</td>\n",
       "      <td>5050</td>\n",
       "      <td>1</td>\n",
       "      <td>0</td>\n",
       "      <td>0</td>\n",
       "      <td>28</td>\n",
       "      <td>744000000</td>\n",
       "      <td>28</td>\n",
       "      <td>2744</td>\n",
       "      <td>1.0</td>\n",
       "      <td>3.763441e-08</td>\n",
       "      <td>98.0</td>\n",
       "      <td>3.688172e-06</td>\n",
       "    </tr>\n",
       "    <tr>\n",
       "      <th>586096</th>\n",
       "      <td>3</td>\n",
       "      <td>167772161</td>\n",
       "      <td>5051</td>\n",
       "      <td>167772174</td>\n",
       "      <td>36029</td>\n",
       "      <td>17</td>\n",
       "      <td>-1</td>\n",
       "      <td>-1</td>\n",
       "      <td>5</td>\n",
       "      <td>501000000</td>\n",
       "      <td>1</td>\n",
       "      <td>170</td>\n",
       "      <td>0.2</td>\n",
       "      <td>1.996008e-09</td>\n",
       "      <td>34.0</td>\n",
       "      <td>3.393214e-07</td>\n",
       "    </tr>\n",
       "  </tbody>\n",
       "</table>\n",
       "</div>"
      ],
      "text/plain": [
       "         datapath_id      ip_src  tp_src     ip_dst  tp_dst  ip_proto  \\\n",
       "2243625            3   167772173   10024  167772173       0         6   \n",
       "697153             4   983699175   13771  167772176       0        17   \n",
       "1975632            3  2420214498    2614  167772169       0        17   \n",
       "427942             3   167772167   47790  167772163    5050         1   \n",
       "586096             3   167772161    5051  167772174   36029        17   \n",
       "\n",
       "         icmp_code  icmp_type  flow_duration_sec  flow_duration_nsec  \\\n",
       "2243625         -1         -1                  2           447000000   \n",
       "697153          -1         -1                 10           419000000   \n",
       "1975632         -1         -1                 16            19000000   \n",
       "427942           0          0                 28           744000000   \n",
       "586096          -1         -1                  5           501000000   \n",
       "\n",
       "         packet_count  byte_count  packet_count_per_second  \\\n",
       "2243625             0           0                      0.0   \n",
       "697153              0           0                      0.0   \n",
       "1975632             0           0                      0.0   \n",
       "427942             28        2744                      1.0   \n",
       "586096              1         170                      0.2   \n",
       "\n",
       "         packet_count_per_nsecond  byte_count_per_second  \\\n",
       "2243625              0.000000e+00                    0.0   \n",
       "697153               0.000000e+00                    0.0   \n",
       "1975632              0.000000e+00                    0.0   \n",
       "427942               3.763441e-08                   98.0   \n",
       "586096               1.996008e-09                   34.0   \n",
       "\n",
       "         byte_count_per_nsecond  \n",
       "2243625            0.000000e+00  \n",
       "697153             0.000000e+00  \n",
       "1975632            0.000000e+00  \n",
       "427942             3.688172e-06  \n",
       "586096             3.393214e-07  "
      ]
     },
     "execution_count": 32,
     "metadata": {},
     "output_type": "execute_result"
    }
   ],
   "source": [
    "X_validate.head()"
   ]
  },
  {
   "cell_type": "code",
   "execution_count": 36,
   "id": "cf986281",
   "metadata": {},
   "outputs": [
    {
     "name": "stderr",
     "output_type": "stream",
     "text": [
      "/tmp/ipykernel_2196560/409804582.py:2: SettingWithCopyWarning: \n",
      "A value is trying to be set on a copy of a slice from a DataFrame.\n",
      "Try using .loc[row_indexer,col_indexer] = value instead\n",
      "\n",
      "See the caveats in the documentation: https://pandas.pydata.org/pandas-docs/stable/user_guide/indexing.html#returning-a-view-versus-a-copy\n",
      "  df_val[\"label\"] = y_validate\n"
     ]
    }
   ],
   "source": [
    "df_val = X_validate\n",
    "df_val[\"label\"] = y_validate"
   ]
  },
  {
   "cell_type": "code",
   "execution_count": 37,
   "id": "c80955ee",
   "metadata": {},
   "outputs": [
    {
     "data": {
      "text/html": [
       "<div>\n",
       "<style scoped>\n",
       "    .dataframe tbody tr th:only-of-type {\n",
       "        vertical-align: middle;\n",
       "    }\n",
       "\n",
       "    .dataframe tbody tr th {\n",
       "        vertical-align: top;\n",
       "    }\n",
       "\n",
       "    .dataframe thead th {\n",
       "        text-align: right;\n",
       "    }\n",
       "</style>\n",
       "<table border=\"1\" class=\"dataframe\">\n",
       "  <thead>\n",
       "    <tr style=\"text-align: right;\">\n",
       "      <th></th>\n",
       "      <th>datapath_id</th>\n",
       "      <th>ip_src</th>\n",
       "      <th>tp_src</th>\n",
       "      <th>ip_dst</th>\n",
       "      <th>tp_dst</th>\n",
       "      <th>ip_proto</th>\n",
       "      <th>icmp_code</th>\n",
       "      <th>icmp_type</th>\n",
       "      <th>flow_duration_sec</th>\n",
       "      <th>flow_duration_nsec</th>\n",
       "      <th>packet_count</th>\n",
       "      <th>byte_count</th>\n",
       "      <th>packet_count_per_second</th>\n",
       "      <th>packet_count_per_nsecond</th>\n",
       "      <th>byte_count_per_second</th>\n",
       "      <th>byte_count_per_nsecond</th>\n",
       "      <th>label</th>\n",
       "    </tr>\n",
       "  </thead>\n",
       "  <tbody>\n",
       "    <tr>\n",
       "      <th>2243625</th>\n",
       "      <td>3</td>\n",
       "      <td>167772173</td>\n",
       "      <td>10024</td>\n",
       "      <td>167772173</td>\n",
       "      <td>0</td>\n",
       "      <td>6</td>\n",
       "      <td>-1</td>\n",
       "      <td>-1</td>\n",
       "      <td>2</td>\n",
       "      <td>447000000</td>\n",
       "      <td>0</td>\n",
       "      <td>0</td>\n",
       "      <td>0.0</td>\n",
       "      <td>0.000000e+00</td>\n",
       "      <td>0.0</td>\n",
       "      <td>0.000000e+00</td>\n",
       "      <td>4</td>\n",
       "    </tr>\n",
       "    <tr>\n",
       "      <th>697153</th>\n",
       "      <td>4</td>\n",
       "      <td>983699175</td>\n",
       "      <td>13771</td>\n",
       "      <td>167772176</td>\n",
       "      <td>0</td>\n",
       "      <td>17</td>\n",
       "      <td>-1</td>\n",
       "      <td>-1</td>\n",
       "      <td>10</td>\n",
       "      <td>419000000</td>\n",
       "      <td>0</td>\n",
       "      <td>0</td>\n",
       "      <td>0.0</td>\n",
       "      <td>0.000000e+00</td>\n",
       "      <td>0.0</td>\n",
       "      <td>0.000000e+00</td>\n",
       "      <td>2</td>\n",
       "    </tr>\n",
       "    <tr>\n",
       "      <th>1975632</th>\n",
       "      <td>3</td>\n",
       "      <td>2420214498</td>\n",
       "      <td>2614</td>\n",
       "      <td>167772169</td>\n",
       "      <td>0</td>\n",
       "      <td>17</td>\n",
       "      <td>-1</td>\n",
       "      <td>-1</td>\n",
       "      <td>16</td>\n",
       "      <td>19000000</td>\n",
       "      <td>0</td>\n",
       "      <td>0</td>\n",
       "      <td>0.0</td>\n",
       "      <td>0.000000e+00</td>\n",
       "      <td>0.0</td>\n",
       "      <td>0.000000e+00</td>\n",
       "      <td>2</td>\n",
       "    </tr>\n",
       "    <tr>\n",
       "      <th>427942</th>\n",
       "      <td>3</td>\n",
       "      <td>167772167</td>\n",
       "      <td>47790</td>\n",
       "      <td>167772163</td>\n",
       "      <td>5050</td>\n",
       "      <td>1</td>\n",
       "      <td>0</td>\n",
       "      <td>0</td>\n",
       "      <td>28</td>\n",
       "      <td>744000000</td>\n",
       "      <td>28</td>\n",
       "      <td>2744</td>\n",
       "      <td>1.0</td>\n",
       "      <td>3.763441e-08</td>\n",
       "      <td>98.0</td>\n",
       "      <td>3.688172e-06</td>\n",
       "      <td>0</td>\n",
       "    </tr>\n",
       "    <tr>\n",
       "      <th>586096</th>\n",
       "      <td>3</td>\n",
       "      <td>167772161</td>\n",
       "      <td>5051</td>\n",
       "      <td>167772174</td>\n",
       "      <td>36029</td>\n",
       "      <td>17</td>\n",
       "      <td>-1</td>\n",
       "      <td>-1</td>\n",
       "      <td>5</td>\n",
       "      <td>501000000</td>\n",
       "      <td>1</td>\n",
       "      <td>170</td>\n",
       "      <td>0.2</td>\n",
       "      <td>1.996008e-09</td>\n",
       "      <td>34.0</td>\n",
       "      <td>3.393214e-07</td>\n",
       "      <td>0</td>\n",
       "    </tr>\n",
       "  </tbody>\n",
       "</table>\n",
       "</div>"
      ],
      "text/plain": [
       "         datapath_id      ip_src  tp_src     ip_dst  tp_dst  ip_proto  \\\n",
       "2243625            3   167772173   10024  167772173       0         6   \n",
       "697153             4   983699175   13771  167772176       0        17   \n",
       "1975632            3  2420214498    2614  167772169       0        17   \n",
       "427942             3   167772167   47790  167772163    5050         1   \n",
       "586096             3   167772161    5051  167772174   36029        17   \n",
       "\n",
       "         icmp_code  icmp_type  flow_duration_sec  flow_duration_nsec  \\\n",
       "2243625         -1         -1                  2           447000000   \n",
       "697153          -1         -1                 10           419000000   \n",
       "1975632         -1         -1                 16            19000000   \n",
       "427942           0          0                 28           744000000   \n",
       "586096          -1         -1                  5           501000000   \n",
       "\n",
       "         packet_count  byte_count  packet_count_per_second  \\\n",
       "2243625             0           0                      0.0   \n",
       "697153              0           0                      0.0   \n",
       "1975632             0           0                      0.0   \n",
       "427942             28        2744                      1.0   \n",
       "586096              1         170                      0.2   \n",
       "\n",
       "         packet_count_per_nsecond  byte_count_per_second  \\\n",
       "2243625              0.000000e+00                    0.0   \n",
       "697153               0.000000e+00                    0.0   \n",
       "1975632              0.000000e+00                    0.0   \n",
       "427942               3.763441e-08                   98.0   \n",
       "586096               1.996008e-09                   34.0   \n",
       "\n",
       "         byte_count_per_nsecond  label  \n",
       "2243625            0.000000e+00      4  \n",
       "697153             0.000000e+00      2  \n",
       "1975632            0.000000e+00      2  \n",
       "427942             3.688172e-06      0  \n",
       "586096             3.393214e-07      0  "
      ]
     },
     "execution_count": 37,
     "metadata": {},
     "output_type": "execute_result"
    }
   ],
   "source": [
    "df_val.head()"
   ]
  },
  {
   "cell_type": "code",
   "execution_count": 38,
   "id": "ad927795",
   "metadata": {},
   "outputs": [],
   "source": [
    "df_val.to_csv(\"data_val.csv\", index=False)"
   ]
  },
  {
   "cell_type": "markdown",
   "id": "5e8fabea",
   "metadata": {},
   "source": []
  }
 ],
 "metadata": {
  "kernelspec": {
   "display_name": "py38_env",
   "language": "python",
   "name": "python3"
  },
  "language_info": {
   "codemirror_mode": {
    "name": "ipython",
    "version": 3
   },
   "file_extension": ".py",
   "mimetype": "text/x-python",
   "name": "python",
   "nbconvert_exporter": "python",
   "pygments_lexer": "ipython3",
   "version": "3.8.20"
  }
 },
 "nbformat": 4,
 "nbformat_minor": 5
}
